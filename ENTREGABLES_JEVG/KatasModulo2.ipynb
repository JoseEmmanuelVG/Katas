{
 "cells": [
  {
   "cell_type": "markdown",
   "metadata": {},
   "source": [
    "## Crear un entorno virtual\n",
    "### TRIPULANTE : launchx03224@innovaccion.mx --> JEVG\n"
   ]
  },
  {
   "cell_type": "markdown",
   "metadata": {},
   "source": [
    "Para crear un entorno virtual, llama al módulo. El módulo espera un nombre como argumento venv.\n",
    "\n",
    "Sigue estos pasos:\n",
    "\n",
    "Desde tu terminal ve al directorio donde deseas guardar tu proyecto. (Documentos/TuFolderPreferido) Ejemplo en windows: cd Documents/TuFolderPreferido\n",
    "\n",
    "Utiliza el siguiente comando para llamar al módulo venv. El comando difiere ligeramente dependiendo de tu sistema operativo.\n",
    "\n",
    "En consola: python3 -m venv env\n",
    "\n",
    "Donde:\n",
    "\n",
    "python3: La versión de python a utilizar.\n",
    "venv: Llamada al módulo venv conocido como virtual environment.\n",
    "env: Nombre de nuestro entorno virtual.\n",
    "En este punto, se crean algunos directorios:"
   ]
  },
  {
   "cell_type": "markdown",
   "metadata": {},
   "source": [
    "![](../images/KataModulo2.png)"
   ]
  },
  {
   "cell_type": "markdown",
   "metadata": {},
   "source": [
    "![](../images/KataModulo2.1.png)"
   ]
  },
  {
   "cell_type": "code",
   "execution_count": 2,
   "metadata": {},
   "outputs": [
    {
     "name": "stdout",
     "output_type": "stream",
     "text": [
      "2022-02-14 19:34:43.892503\n",
      "2022-03-21 10:34:43.892503\n"
     ]
    }
   ],
   "source": [
    "  from datetime import *\n",
    "  from dateutil.relativedelta import *\n",
    "  now = datetime.now()\n",
    "  print(now)\n",
    "\n",
    "  now = now + relativedelta(months=1, weeks=1, hour=10)\n",
    "\n",
    "  print(now)\n"
   ]
  }
 ],
 "metadata": {
  "interpreter": {
   "hash": "38d51dd8e8d25c2b4859ddf5fde4d8615b38902fd48d30a19bf46ddb81d406a6"
  },
  "kernelspec": {
   "display_name": "Python 3.9.10 64-bit (windows store)",
   "language": "python",
   "name": "python3"
  },
  "language_info": {
   "codemirror_mode": {
    "name": "ipython",
    "version": 3
   },
   "file_extension": ".py",
   "mimetype": "text/x-python",
   "name": "python",
   "nbconvert_exporter": "python",
   "pygments_lexer": "ipython3",
   "version": "3.9.10"
  },
  "orig_nbformat": 4
 },
 "nbformat": 4,
 "nbformat_minor": 2
}
